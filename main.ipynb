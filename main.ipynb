{
 "cells": [
  {
   "cell_type": "code",
   "execution_count": 114,
   "metadata": {},
   "outputs": [],
   "source": [
    "import requests\n",
    "from datetime import datetime\n",
    "\n",
    "#Defining my current location\n",
    "MY_LAT = 39.585676 \n",
    "MY_LNG = 2.679648 \n",
    "\n",
    "\n",
    "def is_iss_overhead():\n",
    "    '''\n",
    "    this function gives the current latitude and longitude of the ISS satelite\n",
    "    '''\n",
    "    response = requests.get(url = \"http://api.open-notify.org/iss-now.json\")\n",
    "    response.raise_for_status()\n",
    "    data = response.json()\n",
    "\n",
    "    iss_longitude = float(data['iss_position']['longitude'])\n",
    "    iss_latitude = float(data['iss_position']['latitude'])\n",
    "\n",
    "    if MY_LAT-5 <= iss_latitude <= MY_LAT +5 and MY_LNG-5 <= iss_latitude <= MY_LNG +5:\n",
    "        return True\n",
    "\n",
    "\n",
    "def is_night():\n",
    "    '''\n",
    "    This function tells us if it is night time\n",
    "    '''\n",
    "    parameters = {\n",
    "        \"lat\" : MY_LAT,\n",
    "        \"lng\" : MY_LNG,\n",
    "        \"formatted\" : 0\n",
    "    }\n",
    "    response = requests.get(\"https://api.sunrise-sunset.org/json\", params= parameters, verify = False)\n",
    "    response.raise_for_status()\n",
    "    data = response.json()\n",
    "    sunrise = int(data['results']['sunrise'].split(\"T\")[1].split(\":\")[0])\n",
    "    sunset = int(data['results']['sunset'].split(\"T\")[1].split(\":\")[0])\n",
    "\n",
    "    time_now = datetime.now().hour\n",
    "\n",
    "    if time_now >= sunset or time_now <= sunrise:\n",
    "        return True\n",
    "\n",
    "#If the ISS satelite is over our location so it will print Look UP\n",
    "if is_iss_overhead() and is_night():\n",
    "    print(\"Look up!!!!\")\n"
   ]
  },
  {
   "cell_type": "code",
   "execution_count": null,
   "metadata": {},
   "outputs": [],
   "source": []
  }
 ],
 "metadata": {
  "kernelspec": {
   "display_name": "Python 3.9.12 ('base')",
   "language": "python",
   "name": "python3"
  },
  "language_info": {
   "codemirror_mode": {
    "name": "ipython",
    "version": 3
   },
   "file_extension": ".py",
   "mimetype": "text/x-python",
   "name": "python",
   "nbconvert_exporter": "python",
   "pygments_lexer": "ipython3",
   "version": "3.9.12"
  },
  "orig_nbformat": 4,
  "vscode": {
   "interpreter": {
    "hash": "dbb88acc52137ca6b73d09c0316740674c05a8c08c4c9ff25a2f360b210e596f"
   }
  }
 },
 "nbformat": 4,
 "nbformat_minor": 2
}
